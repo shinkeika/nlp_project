{
 "cells": [
  {
   "cell_type": "markdown",
   "metadata": {},
   "source": [
    "#### 使用开源项目tensorflow/nmt"
   ]
  },
  {
   "cell_type": "code",
   "execution_count": 7,
   "metadata": {},
   "outputs": [
    {
     "name": "stdout",
     "output_type": "stream",
     "text": [
      "fatal: destination path 'nmt' already exists and is not an empty directory.\n",
      "README.md             \u001b[1m\u001b[36mnmt\u001b[m\u001b[m                   seq2seq-chatbot.ipynb\n"
     ]
    }
   ],
   "source": [
    "# 下载项目\n",
    "!git clone https://github.com/tensorflow/nmt/\n",
    "!ls"
   ]
  },
  {
   "cell_type": "markdown",
   "metadata": {},
   "source": [
    "**我们下载小黄鸡语料，并对它做一个处理，使得它符合seq2seq模型的输入格式**"
   ]
  },
  {
   "cell_type": "code",
   "execution_count": 10,
   "metadata": {},
   "outputs": [
    {
     "name": "stdout",
     "output_type": "stream",
     "text": [
      "--2019-12-02 10:29:01--  https://github.com/candlewill/Dialog_Corpus/raw/master/xiaohuangji50w_nofenci.conv.zip\n",
      "正在解析主机 github.com (github.com)... 192.30.253.112\n",
      "正在连接 github.com (github.com)|192.30.253.112|:443... 已连接。\n",
      "已发出 HTTP 请求，正在等待回应... 302 Found\n",
      "位置：https://raw.githubusercontent.com/candlewill/Dialog_Corpus/master/xiaohuangji50w_nofenci.conv.zip [跟随至新的 URL]\n",
      "--2019-12-02 10:29:02--  https://raw.githubusercontent.com/candlewill/Dialog_Corpus/master/xiaohuangji50w_nofenci.conv.zip\n",
      "正在解析主机 raw.githubusercontent.com (raw.githubusercontent.com)... 151.101.76.133\n",
      "正在连接 raw.githubusercontent.com (raw.githubusercontent.com)|151.101.76.133|:443... 已连接。\n",
      "已发出 HTTP 请求，正在等待回应... 200 OK\n",
      "长度：10232473 (9.8M) [application/zip]\n",
      "正在保存至: “xiaohuangji50w_nofenci.conv.zip”\n",
      "\n",
      "xiaohuangji50w_nofe 100%[===================>]   9.76M  5.80MB/s  用时 1.7s      \n",
      "\n",
      "2019-12-02 10:29:05 (5.80 MB/s) - 已保存 “xiaohuangji50w_nofenci.conv.zip” [10232473/10232473])\n",
      "\n",
      "Archive:  xiaohuangji50w_nofenci.conv.zip\n",
      "  inflating: xiaohuangji50w_nofenci.conv  \n"
     ]
    }
   ],
   "source": [
    "!wget https://github.com/candlewill/Dialog_Corpus/raw/master/xiaohuangji50w_nofenci.conv.zip\n",
    "!unzip xiaohuangji50w_nofenci.conv.zip"
   ]
  },
  {
   "cell_type": "code",
   "execution_count": 19,
   "metadata": {},
   "outputs": [],
   "source": [
    "# 把第一行的E和换行换后的第二行换成Q M\n",
    "!perl -pi.bak -e 's/(E\\s)/\\1Q /g' xiaohuangji50w_nofenci.conv\n",
    "# 把第二行的(Q, M)换成 Q\n",
    "!perl -pi.bak -e 's/(Q M)/Q/g' xiaohuangji50w_nofenci.conv\n",
    "# 第三行的M换成 A\n",
    "!perl -pi.bak -e 's/(M )/A /g' xiaohuangji50w_nofenci.conv"
   ]
  },
  {
   "cell_type": "code",
   "execution_count": 20,
   "metadata": {},
   "outputs": [
    {
     "name": "stdout",
     "output_type": "stream",
     "text": [
      "E\r\n",
      "Q 呵呵\r\n",
      "A 是王若猫的。\r\n",
      "E\r\n",
      "Q 不是\r\n",
      "A 那是什么？\r\n",
      "E\r\n",
      "Q 怎么了\r\n",
      "A 我很难过，安慰我~\r\n",
      "E\r\n",
      "Q 开心点哈,一切都会好起来\r\n",
      "A 嗯 会的\r\n",
      "E\r\n",
      "Q 我还喜欢她,怎么办\r\n",
      "A 我帮你告诉她？发短信还是打电话？\r\n",
      "E\r\n",
      "Q 短信\r\n",
      "A 嗯嗯。我也相信\r\n",
      "E\r\n",
      "Q 你知道谁么\r\n",
      "A 肯定不是我，是阮德培\r\n",
      "E\r\n",
      "Q 许兵是谁\r\n",
      "A 吴院四班小帅哥\r\n",
      "E\r\n",
      "Q 这么假\r\n",
      "A 三鹿奶粉也假，不一样的卖啊\r\n",
      "E\r\n",
      "Q 许兵是傻逼\r\n",
      "A 被你发现了。\r\n"
     ]
    }
   ],
   "source": [
    "!head -30 xiaohuangji50w_nofenci.conv"
   ]
  },
  {
   "cell_type": "code",
   "execution_count": 24,
   "metadata": {},
   "outputs": [
    {
     "data": {
      "text/plain": [
       "'Q 呵呵\\nA 是王若猫的。\\n'"
      ]
     },
     "execution_count": 24,
     "metadata": {},
     "output_type": "execute_result"
    }
   ],
   "source": [
    "text = open('xiaohuangji50w_nofenci.conv').read().split('E\\n')\n",
    "text[1]"
   ]
  },
  {
   "cell_type": "markdown",
   "metadata": {},
   "source": [
    "**分词**"
   ]
  },
  {
   "cell_type": "code",
   "execution_count": 30,
   "metadata": {},
   "outputs": [],
   "source": [
    "import jieba\n",
    "def split_conv(in_f, out_q, out_a):\n",
    "    out_question = open(out_q, 'w')\n",
    "    out_answer = open(out_a, 'w')\n",
    "    text = open(in_f).read().split('E\\n')\n",
    "    for pair in text:\n",
    "        # 句子长度太短的对话，就过滤掉，跳过\n",
    "        if len(pair) <= 4:\n",
    "            continue\n",
    "        # 切分问题和回答\n",
    "        contents = pair.split('\\n')\n",
    "        out_question.write(' '.join(jieba.lcut(contents[0].strip('Q '))) + '\\n')\n",
    "        out_answer.write(' '.join(jieba.lcut(contents[1].strip('A '))) + '\\n')\n",
    "    out_question.close()\n",
    "    out_answer.close()"
   ]
  },
  {
   "cell_type": "code",
   "execution_count": 31,
   "metadata": {},
   "outputs": [
    {
     "name": "stderr",
     "output_type": "stream",
     "text": [
      "Building prefix dict from the default dictionary ...\n",
      "Loading model from cache /var/folders/g_/rv2sg65j1_g2znz05v_snmth0000gn/T/jieba.cache\n",
      "Loading model cost 0.652 seconds.\n",
      "Prefix dict has been built succesfully.\n"
     ]
    }
   ],
   "source": [
    "in_f = 'xiaohuangji50w_nofenci.conv'\n",
    "out_q = 'question.file'\n",
    "out_a = 'answer.file'\n",
    "split_conv(in_f, out_q, out_a)"
   ]
  },
  {
   "cell_type": "code",
   "execution_count": 32,
   "metadata": {},
   "outputs": [
    {
     "name": "stdout",
     "output_type": "stream",
     "text": [
      "呵呵\r\n",
      "不是\r\n",
      "怎么 了\r\n",
      "开心 点哈 , 一切 都 会 好 起来\r\n",
      "我 还 喜欢 她 , 怎么办\r\n",
      "短信\r\n",
      "你 知道 谁 么\r\n",
      "许兵 是 谁\r\n",
      "这么 假\r\n",
      "许兵 是 傻 逼\r\n"
     ]
    }
   ],
   "source": [
    "!head -10 question.file"
   ]
  },
  {
   "cell_type": "code",
   "execution_count": null,
   "metadata": {},
   "outputs": [],
   "source": []
  }
 ],
 "metadata": {
  "kernelspec": {
   "display_name": "Python 3",
   "language": "python",
   "name": "python3"
  },
  "language_info": {
   "codemirror_mode": {
    "name": "ipython",
    "version": 3
   },
   "file_extension": ".py",
   "mimetype": "text/x-python",
   "name": "python",
   "nbconvert_exporter": "python",
   "pygments_lexer": "ipython3",
   "version": "3.7.3"
  },
  "toc": {
   "base_numbering": 1,
   "nav_menu": {},
   "number_sections": true,
   "sideBar": true,
   "skip_h1_title": false,
   "title_cell": "Table of Contents",
   "title_sidebar": "Contents",
   "toc_cell": false,
   "toc_position": {},
   "toc_section_display": true,
   "toc_window_display": false
  }
 },
 "nbformat": 4,
 "nbformat_minor": 2
}
