{
 "cells": [
  {
   "cell_type": "markdown",
   "metadata": {},
   "source": [
    "#### 使用开源项目tensorflow/nmt"
   ]
  },
  {
   "cell_type": "code",
   "execution_count": 7,
   "metadata": {},
   "outputs": [
    {
     "name": "stdout",
     "output_type": "stream",
     "text": [
      "fatal: destination path 'nmt' already exists and is not an empty directory.\n",
      "README.md             \u001b[1m\u001b[36mnmt\u001b[m\u001b[m                   seq2seq-chatbot.ipynb\n"
     ]
    }
   ],
   "source": [
    "# 下载项目\n",
    "!git clone https://github.com/tensorflow/nmt/\n",
    "!ls"
   ]
  },
  {
   "cell_type": "markdown",
   "metadata": {},
   "source": [
    "**我们下载小黄鸡语料，并对它做一个处理，使得它符合seq2seq模型的输入格式**"
   ]
  },
  {
   "cell_type": "code",
   "execution_count": 10,
   "metadata": {},
   "outputs": [
    {
     "name": "stdout",
     "output_type": "stream",
     "text": [
      "--2019-12-02 10:29:01--  https://github.com/candlewill/Dialog_Corpus/raw/master/xiaohuangji50w_nofenci.conv.zip\n",
      "正在解析主机 github.com (github.com)... 192.30.253.112\n",
      "正在连接 github.com (github.com)|192.30.253.112|:443... 已连接。\n",
      "已发出 HTTP 请求，正在等待回应... 302 Found\n",
      "位置：https://raw.githubusercontent.com/candlewill/Dialog_Corpus/master/xiaohuangji50w_nofenci.conv.zip [跟随至新的 URL]\n",
      "--2019-12-02 10:29:02--  https://raw.githubusercontent.com/candlewill/Dialog_Corpus/master/xiaohuangji50w_nofenci.conv.zip\n",
      "正在解析主机 raw.githubusercontent.com (raw.githubusercontent.com)... 151.101.76.133\n",
      "正在连接 raw.githubusercontent.com (raw.githubusercontent.com)|151.101.76.133|:443... 已连接。\n",
      "已发出 HTTP 请求，正在等待回应... 200 OK\n",
      "长度：10232473 (9.8M) [application/zip]\n",
      "正在保存至: “xiaohuangji50w_nofenci.conv.zip”\n",
      "\n",
      "xiaohuangji50w_nofe 100%[===================>]   9.76M  5.80MB/s  用时 1.7s      \n",
      "\n",
      "2019-12-02 10:29:05 (5.80 MB/s) - 已保存 “xiaohuangji50w_nofenci.conv.zip” [10232473/10232473])\n",
      "\n",
      "Archive:  xiaohuangji50w_nofenci.conv.zip\n",
      "  inflating: xiaohuangji50w_nofenci.conv  \n"
     ]
    }
   ],
   "source": [
    "!wget https://github.com/candlewill/Dialog_Corpus/raw/master/xiaohuangji50w_nofenci.conv.zip\n",
    "!unzip xiaohuangji50w_nofenci.conv.zip"
   ]
  },
  {
   "cell_type": "code",
   "execution_count": 14,
   "metadata": {},
   "outputs": [],
   "source": [
    "# 把第一行的E和换行换后的第二行换成Q M\n",
    "!perl -pi.bak -e 's/(E\\s)/\\1Q /g' xiaohuangji50w_nofenci.conv\n"
   ]
  },
  {
   "cell_type": "code",
   "execution_count": null,
   "metadata": {},
   "outputs": [],
   "source": [
    "!perl -pi.bak -e 's/(Q M)/Q/g' xiaohuangji50w_nofenci.conv\n"
   ]
  },
  {
   "cell_type": "code",
   "execution_count": null,
   "metadata": {},
   "outputs": [],
   "source": [
    "!perl -pi.bak -e 's/(M )/A /g' xiaohuangji50w_nofenci.conv\n"
   ]
  },
  {
   "cell_type": "code",
   "execution_count": null,
   "metadata": {},
   "outputs": [],
   "source": [
    "!head -30 xiaohuangji50w_nofenci.conv"
   ]
  }
 ],
 "metadata": {
  "kernelspec": {
   "display_name": "Python 3",
   "language": "python",
   "name": "python3"
  },
  "language_info": {
   "codemirror_mode": {
    "name": "ipython",
    "version": 3
   },
   "file_extension": ".py",
   "mimetype": "text/x-python",
   "name": "python",
   "nbconvert_exporter": "python",
   "pygments_lexer": "ipython3",
   "version": "3.7.3"
  },
  "toc": {
   "base_numbering": 1,
   "nav_menu": {},
   "number_sections": true,
   "sideBar": true,
   "skip_h1_title": false,
   "title_cell": "Table of Contents",
   "title_sidebar": "Contents",
   "toc_cell": false,
   "toc_position": {},
   "toc_section_display": true,
   "toc_window_display": false
  }
 },
 "nbformat": 4,
 "nbformat_minor": 2
}
